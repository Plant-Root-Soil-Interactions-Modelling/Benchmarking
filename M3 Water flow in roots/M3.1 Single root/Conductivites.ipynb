{
 "cells": [
  {
   "cell_type": "markdown",
   "metadata": {},
   "source": [
    "The solution for kr>0 is derived in M3.1 Benchmarking problem, here a plot for small $kr$.\n",
    "\n",
    "For constant $ \\psi_s $,  $kr$ and $kz$ we can solve above equation yielding the analytical solution\n",
    "\n",
    "$$ \\psi_r(l) := \\psi_s + d_1 e^{\\tau l } + d_2 e^{-\\tau l} $$\n",
    "\n",
    "$\\tau$, $d1$, and $d2$ defined below"
   ]
  },
  {
   "cell_type": "code",
   "execution_count": 4,
   "metadata": {},
   "outputs": [
    {
     "name": "stdout",
     "output_type": "stream",
     "text": [
      "[ 7.30124765 -6.80124765]\n",
      "0.07093917119558829\n",
      "-0.1419973696279594\n",
      "1.073515923192111\n",
      "0.5\n",
      "-0.5\n",
      "radial_flux 0.0\n",
      "top -200.0 bot -201.0\n"
     ]
    },
    {
     "data": {
      "image/png": "[encoded data removed]",
      "text/plain": [
       "<Figure size 504x504 with 1 Axes>"
      ]
     },
     "metadata": {
      "needs_background": "light"
     },
     "output_type": "display_data"
    }
   ],
   "source": [
    "import os\n",
    "import numpy as np\n",
    "import matplotlib.pyplot as plt\n",
    "from math import *\n",
    "\n",
    "L = 1 # length of single straight root [cm]\n",
    "a = 0.2 # radius  [cm]\n",
    "kx = 0.0432 # axial conductivity [cm^3 / day] \n",
    "kr = 1.73e-4 # radial conductivity [1 / day]\n",
    "psi_s = -200.5 # constant soil matric potential [cm]\n",
    "psi_i = -200 - psi_s # matric potential at node i [cm]\n",
    "psi_j = -201 - psi_s # matric potential at node j [cm]\n",
    "\n",
    "tau = np.sqrt(2*a*np.pi*kr/kx)\n",
    "\n",
    "# Boundary conditions\n",
    "AA = np.array([[1,1], [exp(tau*(-L)), exp(-tau*(-L))] ]) \n",
    "bb = np.array([psi_i, psi_j]) \n",
    "d = np.linalg.solve(AA, bb) \n",
    "print(d)\n",
    "\n",
    "# Analytical solution\n",
    "p_r = lambda z: psi_s + d[0]*exp(tau*z) + d[1]*exp(-tau*z)\n",
    "\n",
    "\n",
    "delta = exp(-tau*L)-exp(tau*L)\n",
    "print(tau)\n",
    "print(delta)\n",
    "print(exp(tau*L))\n",
    "print(psi_i)\n",
    "print(psi_j)\n",
    "radial_flux = 2*pi*kr*(psi_i+psi_j)*(1/(tau*delta))*(2-exp(-tau*L)-exp(tau*L))\n",
    "print(\"radial_flux\", radial_flux)\n",
    "\n",
    "print(\"top\", p_r(0), \"bot\", p_r(-1))\n",
    "\n",
    "# Plot results\n",
    "fig=plt.figure(figsize=(7, 7))\n",
    "za_ = np.linspace(0,-L,1000)\n",
    "pr = list(map(p_r, za_))\n",
    "plt.plot(pr,za_)\n",
    "plt.xlabel(\"Xylem pressure [cm]\")\n",
    "plt.ylabel(\"Depth [cm]\")\n",
    "plt.show()"
   ]
  },
  {
   "cell_type": "markdown",
   "metadata": {},
   "source": [
    "If we insert $kr=0$ into above equations (that were derived for $kr>0$), we cannot solver for $d$ since the matrix is singular.  \n",
    "\n",
    "For $kr=0$, $\\psi_r$ takes the form\n",
    "$$ \\psi_r(l) := \\psi_s + c_2 l + c_1 $$\n",
    "i.e. a straight line, and the resulting net flux is exactly the axial flux. \n",
    "\n",
    "In case of $kr=0$ segment net fluxes must be either replaced the axial flux (exact or approach) or approximated by some small $kr$ (should be sufficient).  "
   ]
  },
  {
   "cell_type": "code",
   "execution_count": null,
   "metadata": {},
   "outputs": [],
   "source": []
  }
 ],
 "metadata": {
  "kernelspec": {
   "display_name": "Python 3",
   "language": "python",
   "name": "python3"
  },
  "language_info": {
   "codemirror_mode": {
    "name": "ipython",
    "version": 3
   },
   "file_extension": ".py",
   "mimetype": "text/x-python",
   "name": "python",
   "nbconvert_exporter": "python",
   "pygments_lexer": "ipython3",
   "version": "3.7.5"
  }
 },
 "nbformat": 4,
 "nbformat_minor": 2
}
